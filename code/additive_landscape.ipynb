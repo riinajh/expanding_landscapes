{
 "cells": [
  {
   "cell_type": "code",
   "execution_count": 2,
   "id": "c9dec9ca-dbaa-4193-9283-4ed5567761d8",
   "metadata": {},
   "outputs": [
    {
     "data": {
      "text/plain": [
       "generate_plots"
      ]
     },
     "execution_count": 2,
     "metadata": {},
     "output_type": "execute_result"
    }
   ],
   "source": [
    "using Random\n",
    "using Random123\n",
    "using Distributions\n",
    "using Plots\n",
    "using StatsPlots\n",
    "using StatsBase\n",
    "using Statistics\n",
    "using DataFrames\n",
    "using Chain\n",
    "using Dates\n",
    "include(\"Utils.jl\")"
   ]
  },
  {
   "cell_type": "code",
   "execution_count": null,
   "id": "40ef969f-3aa0-41d9-a726-ac3d48966503",
   "metadata": {},
   "outputs": [],
   "source": [
    "# Initializing different prngs so that different replicates can be run\n",
    "rng_default = Xoshiro(100)\n",
    "Random.seed!(rng_default, 100)\n",
    "\n",
    "# Seeding a rng for additive effects\n",
    "additive_seed = 100 # changing this changes the topography of the landscape, depending on ruggedness\n",
    "rng_additive = Xoshiro(additive_seed)\n",
    "#Random.seed!(rng_additive, additive_seed)\n",
    "\n",
    "# initializing a rng for genotype generation\n",
    "genotype_seed = 100 # changing this changes the initial genotype generated\n",
    "rng_init_genotype = Xoshiro(genotype_seed)\n",
    "#Random.seed!(rng_init_genotype, genotype_seed)\n",
    "\n",
    "# and a separate one for the initial genome\n",
    "genome_seed = 100 # changing this changes the initial genome generated\n",
    "rng_init_genome = Xoshiro(genome_seed)\n",
    "#Random.seed!(rng_init_genome, genome_seed)\n",
    "\n",
    "# as well as which mutants are created each generation (modeling different \"decisions\")\n",
    "mutation_seed = 100 # changing this should change which decisions are made from some starting point\n",
    "rng_mutation = Xoshiro(mutation_seed)\n",
    "#Random.seed!(rng_mutations, mutation_seed)\n",
    "\n",
    "# Initializing our relevant arguments\n",
    "loci = 20 # since the bitwidth of the genome is 128, we can't actually model any arbitrary maximum genome bitsize. what we can do instead is enforce a maximum genome size (effectively, the bitwidth within a UInt128). \n",
    "init_active_loci = 3 # how many loci, out of the total number of loci in the landscape defined above, are unlocked at the start?\n",
    "max_init_genotype_bits = 3 # makes the initial genotype reproducible between resticted and unlocked landscapes of the same size. max size is the number of init active loci\n",
    "# what the above lets us model is how the restrictedness of the landscape at initialization (init_active_loci) determines what peaks are reached. max_init_genotype_bits allows\n",
    "# us to control for the initial genotype when we change the number of unlocked loci at the start, otherwise we would just generate a different starting genotype (potentially one that wasn't available on the restricted landscape)\n",
    "additive_effects = generate_additive_effects(128)#zeros(128) # we will always need to generate the full range of additive effects (128 bit)\n",
    "total_population = 5000\n",
    "σ_epi::Float64 = 0 # standard deviation of the epistatic effects\n",
    "μ = (total_population^-1)/10 # Mutation rate of the genotypes with some genome. Claudia says than Nμ = 1 is a weird parameter regime, so we adjust it a bit lower\n",
    "M = μ#*10^-1 # rate of genome evolution. expansion/streamlining events happen an order of magnitude less, on average, than mutations\n",
    "simulation_length = 20000"
   ]
  },
  {
   "cell_type": "code",
   "execution_count": null,
   "id": "1825f771-eb9c-4d95-a028-c3587b0820c7",
   "metadata": {},
   "outputs": [],
   "source": [
    "sweeps_test = process_data(df_genotypes)[7]"
   ]
  }
 ],
 "metadata": {
  "kernelspec": {
   "display_name": "Julia 1.11.4",
   "language": "julia",
   "name": "julia-1.11"
  },
  "language_info": {
   "file_extension": ".jl",
   "mimetype": "application/julia",
   "name": "julia",
   "version": "1.11.4"
  }
 },
 "nbformat": 4,
 "nbformat_minor": 5
}
