{
 "cells": [
  {
   "cell_type": "code",
   "execution_count": 2,
   "id": "c9dec9ca-dbaa-4193-9283-4ed5567761d8",
   "metadata": {},
   "outputs": [
    {
     "data": {
      "text/plain": [
       "generate_plots"
      ]
     },
     "execution_count": 2,
     "metadata": {},
     "output_type": "execute_result"
    }
   ],
   "source": [
    "using Random\n",
    "using Random123\n",
    "using Distributions\n",
    "using Plots\n",
    "using StatsPlots\n",
    "using StatsBase\n",
    "using Statistics\n",
    "using DataFrames\n",
    "using Chain\n",
    "using Dates\n",
    "include(\"Utils.jl\")"
   ]
  },
  {
   "cell_type": "code",
   "execution_count": 3,
   "id": "40ef969f-3aa0-41d9-a726-ac3d48966503",
   "metadata": {},
   "outputs": [
    {
     "data": {
      "text/plain": [
       "2000"
      ]
     },
     "execution_count": 3,
     "metadata": {},
     "output_type": "execute_result"
    }
   ],
   "source": [
    "# Initializing different prngs so that different replicates can be run\n",
    "rng_default = Xoshiro(100)\n",
    "Random.seed!(rng_default, 100)\n",
    "\n",
    "# Seeding a rng for additive effects\n",
    "additive_seed = 100 # changing this changes the topography of the landscape, depending on ruggedness\n",
    "rng_additive = Xoshiro(additive_seed)\n",
    "#Random.seed!(rng_additive, additive_seed)\n",
    "\n",
    "# initializing a rng for genotype generation\n",
    "genotype_seed = 100 # changing this changes the initial genotype generated\n",
    "rng_init_genotype = Xoshiro(genotype_seed)\n",
    "#Random.seed!(rng_init_genotype, genotype_seed)\n",
    "\n",
    "# and a separate one for the initial genome\n",
    "genome_seed = 100 # changing this changes the initial genome generated\n",
    "rng_init_genome = Xoshiro(genome_seed)\n",
    "#Random.seed!(rng_init_genome, genome_seed)\n",
    "\n",
    "# as well as which mutants are created each generation (modeling different \"decisions\")\n",
    "mutation_seed = 100 # changing this should change which decisions are made from some starting point\n",
    "rng_mutation = Xoshiro(mutation_seed)\n",
    "#Random.seed!(rng_mutations, mutation_seed)\n",
    "\n",
    "# Initializing our relevant arguments\n",
    "loci = 20 # since the bitwidth of the genome is 128, we can't actually model any arbitrary maximum genome bitsize. what we can do instead is enforce a maximum genome size (effectively, the bitwidth within a UInt128). \n",
    "init_active_loci = 3 # how many loci, out of the total number of loci in the landscape defined above, are unlocked at the start?\n",
    "max_init_genotype_bits = 3 # makes the initial genotype reproducible between resticted and unlocked landscapes of the same size. max size is the number of init active loci\n",
    "# what the above lets us model is how the restrictedness of the landscape at initialization (init_active_loci) determines what peaks are reached. max_init_genotype_bits allows\n",
    "# us to control for the initial genotype when we change the number of unlocked loci at the start, otherwise we would just generate a different starting genotype (potentially one that wasn't available on the restricted landscape)\n",
    "additive_effects = generate_additive_effects(128)#zeros(128) # we will always need to generate the full range of additive effects (128 bit)\n",
    "total_population = 5000\n",
    "σ_epi::Float64 = 0 # standard deviation of the epistatic effects\n",
    "μ = (total_population^-1)/10 # Mutation rate of the genotypes with some genome. Claudia says than Nμ = 1 is a weird parameter regime, so we adjust it a bit lower\n",
    "M = μ#*10^-1 # rate of genome evolution. expansion/streamlining events happen an order of magnitude less, on average, than mutations\n",
    "simulation_length = 200000"
   ]
  },
  {
   "cell_type": "code",
   "execution_count": 4,
   "id": "491e881a-6093-4521-86e9-6c0dc17360e9",
   "metadata": {},
   "outputs": [
    {
     "name": "stdout",
     "output_type": "stream",
     "text": [
      "Iteration: 2000"
     ]
    },
    {
     "data": {
      "text/html": [
       "<div><div style = \"float: left;\"><span>12514×4 DataFrame</span></div><div style = \"float: right;\"><span style = \"font-style: italic;\">12489 rows omitted</span></div><div style = \"clear: both;\"></div></div><div class = \"data-frame\" style = \"overflow-x: scroll;\"><table class = \"data-frame\" style = \"margin-bottom: 6px;\"><thead><tr class = \"header\"><th class = \"rowNumber\" style = \"font-weight: bold; text-align: right;\">Row</th><th style = \"text-align: left;\">Step</th><th style = \"text-align: left;\">Genotype</th><th style = \"text-align: left;\">Genome</th><th style = \"text-align: left;\">Pop</th></tr><tr class = \"subheader headerLastRow\"><th class = \"rowNumber\" style = \"font-weight: bold; text-align: right;\"></th><th title = \"Int64\" style = \"text-align: left;\">Int64</th><th title = \"UInt128\" style = \"text-align: left;\">UInt128</th><th title = \"UInt128\" style = \"text-align: left;\">UInt128</th><th title = \"Float64\" style = \"text-align: left;\">Float64</th></tr></thead><tbody><tr><td class = \"rowNumber\" style = \"font-weight: bold; text-align: right;\">1</td><td style = \"text-align: right;\">0</td><td style = \"text-align: right;\">0</td><td style = \"text-align: right;\">4116</td><td style = \"text-align: right;\">5000.0</td></tr><tr><td class = \"rowNumber\" style = \"font-weight: bold; text-align: right;\">2</td><td style = \"text-align: right;\">1</td><td style = \"text-align: right;\">4</td><td style = \"text-align: right;\">4116</td><td style = \"text-align: right;\">2.0</td></tr><tr><td class = \"rowNumber\" style = \"font-weight: bold; text-align: right;\">3</td><td style = \"text-align: right;\">1</td><td style = \"text-align: right;\">0</td><td style = \"text-align: right;\">135188</td><td style = \"text-align: right;\">2.0</td></tr><tr><td class = \"rowNumber\" style = \"font-weight: bold; text-align: right;\">4</td><td style = \"text-align: right;\">1</td><td style = \"text-align: right;\">0</td><td style = \"text-align: right;\">4112</td><td style = \"text-align: right;\">1.0</td></tr><tr><td class = \"rowNumber\" style = \"font-weight: bold; text-align: right;\">5</td><td style = \"text-align: right;\">1</td><td style = \"text-align: right;\">0</td><td style = \"text-align: right;\">4116</td><td style = \"text-align: right;\">4995.0</td></tr><tr><td class = \"rowNumber\" style = \"font-weight: bold; text-align: right;\">6</td><td style = \"text-align: right;\">2</td><td style = \"text-align: right;\">4</td><td style = \"text-align: right;\">4116</td><td style = \"text-align: right;\">2.0</td></tr><tr><td class = \"rowNumber\" style = \"font-weight: bold; text-align: right;\">7</td><td style = \"text-align: right;\">2</td><td style = \"text-align: right;\">0</td><td style = \"text-align: right;\">135188</td><td style = \"text-align: right;\">2.0</td></tr><tr><td class = \"rowNumber\" style = \"font-weight: bold; text-align: right;\">8</td><td style = \"text-align: right;\">2</td><td style = \"text-align: right;\">0</td><td style = \"text-align: right;\">4112</td><td style = \"text-align: right;\">1.0</td></tr><tr><td class = \"rowNumber\" style = \"font-weight: bold; text-align: right;\">9</td><td style = \"text-align: right;\">2</td><td style = \"text-align: right;\">0</td><td style = \"text-align: right;\">4116</td><td style = \"text-align: right;\">4995.0</td></tr><tr><td class = \"rowNumber\" style = \"font-weight: bold; text-align: right;\">10</td><td style = \"text-align: right;\">3</td><td style = \"text-align: right;\">4</td><td style = \"text-align: right;\">4116</td><td style = \"text-align: right;\">3.0</td></tr><tr><td class = \"rowNumber\" style = \"font-weight: bold; text-align: right;\">11</td><td style = \"text-align: right;\">3</td><td style = \"text-align: right;\">16</td><td style = \"text-align: right;\">4116</td><td style = \"text-align: right;\">1.0</td></tr><tr><td class = \"rowNumber\" style = \"font-weight: bold; text-align: right;\">12</td><td style = \"text-align: right;\">3</td><td style = \"text-align: right;\">0</td><td style = \"text-align: right;\">528404</td><td style = \"text-align: right;\">1.0</td></tr><tr><td class = \"rowNumber\" style = \"font-weight: bold; text-align: right;\">13</td><td style = \"text-align: right;\">3</td><td style = \"text-align: right;\">0</td><td style = \"text-align: right;\">135188</td><td style = \"text-align: right;\">1.0</td></tr><tr><td style = \"text-align: right;\">&vellip;</td><td style = \"text-align: right;\">&vellip;</td><td style = \"text-align: right;\">&vellip;</td><td style = \"text-align: right;\">&vellip;</td><td style = \"text-align: right;\">&vellip;</td></tr><tr><td class = \"rowNumber\" style = \"font-weight: bold; text-align: right;\">12503</td><td style = \"text-align: right;\">1997</td><td style = \"text-align: right;\">99465957274664872128612384512</td><td style = \"text-align: right;\">538420</td><td style = \"text-align: right;\">2.0</td></tr><tr><td class = \"rowNumber\" style = \"font-weight: bold; text-align: right;\">12504</td><td style = \"text-align: right;\">1997</td><td style = \"text-align: right;\">99465957274664872128612384528</td><td style = \"text-align: right;\">538420</td><td style = \"text-align: right;\">4995.0</td></tr><tr><td class = \"rowNumber\" style = \"font-weight: bold; text-align: right;\">12505</td><td style = \"text-align: right;\">1998</td><td style = \"text-align: right;\">56813761203801278981397850693779264</td><td style = \"text-align: right;\">571188</td><td style = \"text-align: right;\">1.0</td></tr><tr><td class = \"rowNumber\" style = \"font-weight: bold; text-align: right;\">12506</td><td style = \"text-align: right;\">1998</td><td style = \"text-align: right;\">99465957274664872128612384560</td><td style = \"text-align: right;\">538420</td><td style = \"text-align: right;\">5.0</td></tr><tr><td class = \"rowNumber\" style = \"font-weight: bold; text-align: right;\">12507</td><td style = \"text-align: right;\">1998</td><td style = \"text-align: right;\">99465957274664872128612384512</td><td style = \"text-align: right;\">538420</td><td style = \"text-align: right;\">2.0</td></tr><tr><td class = \"rowNumber\" style = \"font-weight: bold; text-align: right;\">12508</td><td style = \"text-align: right;\">1998</td><td style = \"text-align: right;\">99465957274664872128612384528</td><td style = \"text-align: right;\">538420</td><td style = \"text-align: right;\">4992.0</td></tr><tr><td class = \"rowNumber\" style = \"font-weight: bold; text-align: right;\">12509</td><td style = \"text-align: right;\">1999</td><td style = \"text-align: right;\">99465957274664872128612384528</td><td style = \"text-align: right;\">538420</td><td style = \"text-align: right;\">4997.0</td></tr><tr><td class = \"rowNumber\" style = \"font-weight: bold; text-align: right;\">12510</td><td style = \"text-align: right;\">1999</td><td style = \"text-align: right;\">99465957274664872128612380432</td><td style = \"text-align: right;\">538420</td><td style = \"text-align: right;\">3.0</td></tr><tr><td class = \"rowNumber\" style = \"font-weight: bold; text-align: right;\">12511</td><td style = \"text-align: right;\">2000</td><td style = \"text-align: right;\">1405652908205563972921550218149696</td><td style = \"text-align: right;\">14132</td><td style = \"text-align: right;\">1.0</td></tr><tr><td class = \"rowNumber\" style = \"font-weight: bold; text-align: right;\">12512</td><td style = \"text-align: right;\">2000</td><td style = \"text-align: right;\">99465957274664872128612384512</td><td style = \"text-align: right;\">538420</td><td style = \"text-align: right;\">2.0</td></tr><tr><td class = \"rowNumber\" style = \"font-weight: bold; text-align: right;\">12513</td><td style = \"text-align: right;\">2000</td><td style = \"text-align: right;\">99465957274664872128612384528</td><td style = \"text-align: right;\">538420</td><td style = \"text-align: right;\">4996.0</td></tr><tr><td class = \"rowNumber\" style = \"font-weight: bold; text-align: right;\">12514</td><td style = \"text-align: right;\">2000</td><td style = \"text-align: right;\">99465957274664872128612380432</td><td style = \"text-align: right;\">538420</td><td style = \"text-align: right;\">1.0</td></tr></tbody></table></div>"
      ],
      "text/latex": [
       "\\begin{tabular}{r|cccc}\n",
       "\t& Step & Genotype & Genome & Pop\\\\\n",
       "\t\\hline\n",
       "\t& Int64 & UInt128 & UInt128 & Float64\\\\\n",
       "\t\\hline\n",
       "\t1 & 0 & 0 & 4116 & 5000.0 \\\\\n",
       "\t2 & 1 & 4 & 4116 & 2.0 \\\\\n",
       "\t3 & 1 & 0 & 135188 & 2.0 \\\\\n",
       "\t4 & 1 & 0 & 4112 & 1.0 \\\\\n",
       "\t5 & 1 & 0 & 4116 & 4995.0 \\\\\n",
       "\t6 & 2 & 4 & 4116 & 2.0 \\\\\n",
       "\t7 & 2 & 0 & 135188 & 2.0 \\\\\n",
       "\t8 & 2 & 0 & 4112 & 1.0 \\\\\n",
       "\t9 & 2 & 0 & 4116 & 4995.0 \\\\\n",
       "\t10 & 3 & 4 & 4116 & 3.0 \\\\\n",
       "\t11 & 3 & 16 & 4116 & 1.0 \\\\\n",
       "\t12 & 3 & 0 & 528404 & 1.0 \\\\\n",
       "\t13 & 3 & 0 & 135188 & 1.0 \\\\\n",
       "\t14 & 3 & 0 & 4112 & 1.0 \\\\\n",
       "\t15 & 3 & 0 & 4116 & 4993.0 \\\\\n",
       "\t16 & 4 & 4 & 4116 & 4.0 \\\\\n",
       "\t17 & 4 & 16 & 4116 & 1.0 \\\\\n",
       "\t18 & 4 & 0 & 528404 & 2.0 \\\\\n",
       "\t19 & 4 & 0 & 135188 & 1.0 \\\\\n",
       "\t20 & 4 & 0 & 6164 & 2.0 \\\\\n",
       "\t21 & 4 & 0 & 4112 & 1.0 \\\\\n",
       "\t22 & 4 & 0 & 4116 & 4989.0 \\\\\n",
       "\t23 & 5 & 4 & 4116 & 2.0 \\\\\n",
       "\t24 & 5 & 16 & 4116 & 1.0 \\\\\n",
       "\t25 & 5 & 0 & 528404 & 3.0 \\\\\n",
       "\t26 & 5 & 0 & 135188 & 1.0 \\\\\n",
       "\t27 & 5 & 0 & 6164 & 1.0 \\\\\n",
       "\t28 & 5 & 0 & 4112 & 1.0 \\\\\n",
       "\t29 & 5 & 0 & 4116 & 4991.0 \\\\\n",
       "\t30 & 6 & 4 & 4116 & 2.0 \\\\\n",
       "\t$\\dots$ & $\\dots$ & $\\dots$ & $\\dots$ & $\\dots$ \\\\\n",
       "\\end{tabular}\n"
      ],
      "text/plain": [
       "\u001b[1m12514×4 DataFrame\u001b[0m\n",
       "\u001b[1m   Row \u001b[0m│\u001b[1m Step  \u001b[0m\u001b[1m Genotype                          \u001b[0m\u001b[1m Genome  \u001b[0m\u001b[1m Pop     \u001b[0m\n",
       "       │\u001b[90m Int64 \u001b[0m\u001b[90m UInt128                           \u001b[0m\u001b[90m UInt128 \u001b[0m\u001b[90m Float64 \u001b[0m\n",
       "───────┼────────────────────────────────────────────────────────────\n",
       "     1 │     0                                  …     4116   5000.0\n",
       "     2 │     1                                  …     4116      2.0\n",
       "     3 │     1                                  …   135188      2.0\n",
       "     4 │     1                                  …     4112      1.0\n",
       "     5 │     1                                  …     4116   4995.0\n",
       "     6 │     2                                  …     4116      2.0\n",
       "     7 │     2                                  …   135188      2.0\n",
       "     8 │     2                                  …     4112      1.0\n",
       "     9 │     2                                  …     4116   4995.0\n",
       "    10 │     3                                  …     4116      3.0\n",
       "    11 │     3                                  …     4116      1.0\n",
       "   ⋮   │   ⋮                    ⋮                     ⋮        ⋮\n",
       " 12505 │  1998  56813761203801278981397850693779…   571188      1.0\n",
       " 12506 │  1998        99465957274664872128612384…   538420      5.0\n",
       " 12507 │  1998        99465957274664872128612384…   538420      2.0\n",
       " 12508 │  1998        99465957274664872128612384…   538420   4992.0\n",
       " 12509 │  1999        99465957274664872128612384…   538420   4997.0\n",
       " 12510 │  1999        99465957274664872128612380…   538420      3.0\n",
       " 12511 │  2000   1405652908205563972921550218149…    14132      1.0\n",
       " 12512 │  2000        99465957274664872128612384…   538420      2.0\n",
       " 12513 │  2000        99465957274664872128612384…   538420   4996.0\n",
       " 12514 │  2000        99465957274664872128612380…   538420      1.0\n",
       "\u001b[36m                                                  12493 rows omitted\u001b[0m"
      ]
     },
     "execution_count": 4,
     "metadata": {},
     "output_type": "execute_result"
    }
   ],
   "source": [
    "df_genotypes = simulate(loci, init_active_loci, max_init_genotype_bits, total_population, σ_epi, μ, M, simulation_length)\n",
    "#generate_plots(df_genotypes)\n",
    "sweeps_test = process_data(df_genotypes)[7] # assigns only the data from the selective sweep dataframe\n",
    "sum(digits(sweeps_test[!,:Genome][end], base = 2)) # genome size at end of simulation"
   ]
  },
  {
   "cell_type": "code",
   "execution_count": 25,
   "id": "1825f771-eb9c-4d95-a028-c3587b0820c7",
   "metadata": {},
   "outputs": [
    {
     "data": {
      "text/plain": [
       "9"
      ]
     },
     "execution_count": 25,
     "metadata": {},
     "output_type": "execute_result"
    }
   ],
   "source": []
  }
 ],
 "metadata": {
  "kernelspec": {
   "display_name": "Julia 1.11.4",
   "language": "julia",
   "name": "julia-1.11"
  },
  "language_info": {
   "file_extension": ".jl",
   "mimetype": "application/julia",
   "name": "julia",
   "version": "1.11.4"
  }
 },
 "nbformat": 4,
 "nbformat_minor": 5
}
