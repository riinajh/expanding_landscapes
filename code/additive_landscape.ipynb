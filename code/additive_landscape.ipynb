{
 "cells": [
  {
   "cell_type": "code",
   "execution_count": 9,
   "id": "c9dec9ca-dbaa-4193-9283-4ed5567761d8",
   "metadata": {},
   "outputs": [
    {
     "data": {
      "text/plain": [
       "initialize_prngs"
      ]
     },
     "execution_count": 9,
     "metadata": {},
     "output_type": "execute_result"
    }
   ],
   "source": [
    "using Random\n",
    "using Random123\n",
    "using Distributions\n",
    "using Plots\n",
    "using StatsPlots\n",
    "using StatsBase\n",
    "using Statistics\n",
    "using DataFrames\n",
    "using Chain\n",
    "using Dates\n",
    "using CSV\n",
    "include(\"Utils.jl\")"
   ]
  },
  {
   "cell_type": "code",
   "execution_count": 3,
   "id": "40ef969f-3aa0-41d9-a726-ac3d48966503",
   "metadata": {},
   "outputs": [],
   "source": [
    "#= Initializing our relevant arguments\n",
    "loci = 5 # since the bitwidth of the genome is 128, we can't actually model any arbitrary maximum genome bitsize. what we can do instead is enforce a maximum genome size (effectively, the bitwidth within a UInt128). \n",
    "#init_active_loci = 3 # how many loci, out of the total number of loci in the landscape defined above, are unlocked at the start?\n",
    "max_init_genotype_bits = 1 # makes the initial genotype reproducible between resticted and unlocked landscapes of the same size. max size is the number of init active loci\n",
    "# what the above lets us model is how the restrictedness of the landscape at initialization (init_active_loci) determines what peaks are reached. max_init_genotype_bits allows\n",
    "# us to control for the initial genotype when we change the number of unlocked loci at the start, otherwise we would just generate a different starting genotype (potentially one that wasn't available on the restricted landscape)\n",
    "total_population = 1000\n",
    "σ_epi::Float64 = 0 # standard deviation of the epistatic effects\n",
    "μ = (total_population^-1)/10 # Mutation rate of the genotypes with some genome. Claudia says than Nμ = 1 is a weird parameter regime, so we adjust it a bit lower\n",
    "M = 0.0#μ#*10^-1 # rate of genome evolution. expansion/streamlining events happen an order of magnitude less, on average, than mutations\n",
    "simulation_length = 200000\n",
    "=#"
   ]
  },
  {
   "cell_type": "markdown",
   "id": "a849f026-01f8-4470-ae6e-01b771119abe",
   "metadata": {},
   "source": [
    "## Simulating peak-finding on static landscapes\n",
    "\n",
    "Since a purely additive landscape has 1 fitness maximum, given enough time on any one landscape a population should be able to find it.  "
   ]
  },
  {
   "cell_type": "code",
   "execution_count": 8,
   "id": "d0cddbec-4228-4b54-b383-77c64c44f8b3",
   "metadata": {},
   "outputs": [
    {
     "name": "stdout",
     "output_type": "stream",
     "text": [
      "Iteration: 2000\n",
      "Finished at: 20250723_1637\n"
     ]
    }
   ],
   "source": [
    "# Initializing our relevant arguments\n",
    "#loci = 5 # since the bitwidth of the genome is 128, we can't actually model any arbitrary maximum genome bitsize. what we can do instead is enforce a maximum genome size (effectively, the bitwidth within a UInt128). \n",
    "#init_active_loci = 3 # how many loci, out of the total number of loci in the landscape defined above, are unlocked at the start?\n",
    "#max_init_genotype_bits = 1 # how many of the above unlocked loci can be in state \"1\" (on)? Makes the initial genotype reproducible between resticted and unlocked landscapes of the same size. max size is the number of init active loci\n",
    "# what the above lets us model is how the restrictedness of the landscape at initialization (init_active_loci) determines what peaks are reached. max_init_genotype_bits allows\n",
    "# us to control for the initial genotype when we change the number of unlocked loci at the start, otherwise we would just generate a different starting genotype (potentially one that wasn't available on the restricted landscape)\n",
    "total_population = 1000\n",
    "σ_epi::Float64 = 0 # standard deviation of the epistatic effects\n",
    "μ = (total_population^-1)/10 # Mutation rate of the genotypes with some genome. Claudia says than Nμ = 1 is a weird parameter regime, so we adjust it a bit lower\n",
    "M = 0.0#μ#*10^-1 # There is no genome evolution happening in this case\n",
    "simulation_length = 2000\n",
    "final_genome = DataFrame(Loci = Int[], Replicate = Int[], loci_diff = Int[], Final_fitness = Float64[], Max_fitness = Float64[])\n",
    "runtime = Dates.format(now(), \"yyyymmdd_HHMM\")\n",
    "for i in 100:133\n",
    "    print(\"\\r$i\")\n",
    "    for test in (1, 5, 10, 25, 50, 100) # since no genome evolution, we will treat loci, active_loci, and max_init the same given these sizes\n",
    "        try\n",
    "            loci = test\n",
    "            init_active_loci = test\n",
    "            max_init_genotype_bits = test\n",
    "            rng_default, rng_additive, rng_init_genotype, rng_init_genome, rng_mutation = initialize_prngs(additive_seed = i) # changing the additive seed changes the landscape (rng for the drawing of additive components)\n",
    "            additive_effects = generate_additive_effects(rng_additive, 128)#zeros(128) # we will always need to generate the full range of additive effects (128 bit)\n",
    "            df_genotypes = simulate(loci, init_active_loci, max_init_genotype_bits, total_population, σ_epi, μ, M, simulation_length, rng_init_genome, rng_init_genotype, rng_default, rng_mutation, additive_effects)\n",
    "            #generate_plots(df_genotypes)\n",
    "            sweeps = process_data(df_genotypes, μ, M, additive_effects, σ_epi)[7] # assigns only the data from the selective sweep dataframe\n",
    "            if nrow(sweeps) > 0\n",
    "                #max_fitness = exp(sum(heaviside.(additive_effects[129-loci:end]) .* additive_effects[129-loci:end]))\n",
    "                max_fitness = exp(sum(heaviside.(additive_effects[1:loci]) .* additive_effects[1:loci]))\n",
    "                final_fitness = get_fitness(sweeps[!,:Genotype][end], sweeps[!,:Genome][end], additive_effects, σ_epi)\n",
    "                #genotype_diff = sum(Int.(heaviside.(additive_effects[129-loci:end])) .⊻ digits(sweeps[!,:Genotype][end], base = 2, pad = loci))\n",
    "                genotype_diff = sum(Int.(heaviside.(additive_effects[1:loci])) .⊻ digits(sweeps[!,:Genotype][end], base = 2, pad = loci))\n",
    "                push!(final_genome, (test, i, genotype_diff, final_fitness, max_fitness)) # genome size of major genotype at end of simulation\n",
    "                CSV.write(\"output/2kgen_additive_landscape_$(runtime).csv\", final_genome)\n",
    "            else \n",
    "                NaN\n",
    "            end\n",
    "            \n",
    "        catch e\n",
    "            println(\"\\nError at replicate=$i, init_active_loci=$test\")\n",
    "            println(e)\n",
    "            println(stacktrace(catch_backtrace()))\n",
    "        end\n",
    "    end\n",
    "end\n",
    "\n",
    "println(\"\\nFinished at: \", Dates.format(now(), \"yyyymmdd_HHMM\"))"
   ]
  },
  {
   "cell_type": "markdown",
   "id": "9c072c62-933a-46ff-b676-bcc9487b961c",
   "metadata": {},
   "source": [
    "## Simulating genome sizes at equilibrium\n",
    "\n",
    "We would expect that since roughly half of the additive effects are positive, that in the simulation these would all get flipped on, while amongst the remaining deleterious effects, half are either on but in the \"0\" state, or off (in either case, they do not contribute to fitness, and there are no epistatic effects)."
   ]
  },
  {
   "cell_type": "code",
   "execution_count": 2,
   "id": "491e881a-6093-4521-86e9-6c0dc17360e9",
   "metadata": {},
   "outputs": [
    {
     "name": "stdout",
     "output_type": "stream",
     "text": [
      "Iteration: 200000Finished at: 20250724_0857\n"
     ]
    }
   ],
   "source": [
    "loci = 20 # since the bitwidth of the genome is 128, we can't actually model any arbitrary maximum genome bitsize. what we can do instead is enforce a maximum genome size (effectively, the bitwidth within a UInt128). \n",
    "#init_active_loci = 3 # how many loci, out of the total number of loci in the landscape defined above, are unlocked at the start?\n",
    "max_init_genotype_bits = 1 # makes the initial genotype reproducible between resticted and unlocked landscapes of the same size. max size is the number of init active loci\n",
    "# what the above lets us model is how the restrictedness of the landscape at initialization (init_active_loci) determines what peaks are reached. max_init_genotype_bits allows\n",
    "# us to control for the initial genotype when we change the number of unlocked loci at the start, otherwise we would just generate a different starting genotype (potentially one that wasn't available on the restricted landscape)\n",
    "total_population = 1000\n",
    "σ_epi::Float64 = 0 # standard deviation of the epistatic effects\n",
    "μ = (total_population^-1)/10 # Mutation rate of the genotypes with some genome. Claudia says than Nμ = 1 is a weird parameter regime, so we adjust it a bit lower\n",
    "M = μ#*10^-1 # rate of genome evolution. expansion/streamlining events happen an order of magnitude less, on average, than mutations\n",
    "simulation_length = 200000\n",
    "final_genome_sizes = DataFrame(Init_active = Int[], Max_size = Int[], Replicate = Int[], Final_size = Int[], Pos_effects = Int[])\n",
    "runtime = Dates.format(now(), \"yyyymmdd_HHMM\")\n",
    "for i in 100:133\n",
    "    print(\"\\r$i\")\n",
    "    for init_active_loci in (1, 10, 20)\n",
    "        try\n",
    "            rng_default, rng_additive, rng_init_genotype, rng_init_genome, rng_mutation = initialize_prngs(additive_seed = i)\n",
    "            additive_effects = generate_additive_effects(rng_additive, 128)#zeros(128) # we will always need to generate the full range of additive effects (128 bit)\n",
    "            df_genotypes = simulate(loci, init_active_loci, max_init_genotype_bits, total_population, σ_epi, μ, M, simulation_length, rng_init_genome, rng_init_genotype, rng_default, rng_mutation, additive_effects)\n",
    "            #generate_plots(df_genotypes)\n",
    "            sweeps = process_data(df_genotypes, μ, M, additive_effects, σ_epi)[7] # assigns only the data from the selective sweep dataframe\n",
    "            if nrow(sweeps) > 0\n",
    "                push!(final_genome_sizes, (init_active_loci, loci, i, sum(digits(sweeps[!,:Genome][end], base = 2, pad = loci)), Int(sum(heaviside.(additive_effects[1:loci]))))) # genome size of major genotype at end of simulation\n",
    "                CSV.write(\"output/additive_landscape_$(runtime).csv\", final_genome_sizes)\n",
    "            else \n",
    "                NaN\n",
    "            end\n",
    "        catch e\n",
    "            println(\"\\nError at replicate=$i, init_active_loci=$init_active_loci\")\n",
    "            println(e)\n",
    "            println(stacktrace(catch_backtrace()))\n",
    "        end\n",
    "    end\n",
    "end\n",
    "\n",
    "println(\"Finished at: \", Dates.format(now(), \"yyyymmdd_HHMM\"))"
   ]
  },
  {
   "cell_type": "markdown",
   "id": "74634906-f06f-4643-95c2-dd111f062ba6",
   "metadata": {},
   "source": [
    "## Uniform additive effects\n",
    "\n",
    "We now run the same simulation but with all additive effects being equivalent (the particular number does not matter in this case, as long as it is not zero), where all additive effects are identical, which has the consequence that no genomic changes have any effect on the landscape, and all landscapes are thus identical. <i>(or at least, it decreases in proportion to the number of loci that have the same effect, since this is the basis for the likelihood that two different random draws of the same size with different loci would have the same total effect)</i>"
   ]
  },
  {
   "cell_type": "code",
   "execution_count": null,
   "id": "2b0941de-efdc-4f17-aad1-554647fd3e47",
   "metadata": {},
   "outputs": [
    {
     "name": "stdout",
     "output_type": "stream",
     "text": [
      "Iteration: 11000"
     ]
    }
   ],
   "source": [
    "loci = 5 # since the bitwidth of the genome is 128, we can't actually model any arbitrary maximum genome bitsize. what we can do instead is enforce a maximum genome size (effectively, the bitwidth within a UInt128). \n",
    "#init_active_loci = 3 # how many loci, out of the total number of loci in the landscape defined above, are unlocked at the start?\n",
    "max_init_genotype_bits = 1 # makes the initial genotype reproducible between resticted and unlocked landscapes of the same size. max size is the number of init active loci\n",
    "# what the above lets us model is how the restrictedness of the landscape at initialization (init_active_loci) determines what peaks are reached. max_init_genotype_bits allows\n",
    "# us to control for the initial genotype when we change the number of unlocked loci at the start, otherwise we would just generate a different starting genotype (potentially one that wasn't available on the restricted landscape)\n",
    "total_population = 1000\n",
    "σ_epi::Float64 = 0 # standard deviation of the epistatic effects\n",
    "μ = (total_population^-1)/10 # Mutation rate of the genotypes with some genome. Claudia says than Nμ = 1 is a weird parameter regime, so we adjust it a bit lower\n",
    "M = μ#*10^-1 # rate of genome evolution. expansion/streamlining events happen an order of magnitude less, on average, than mutations\n",
    "simulation_length = 20000\n",
    "final_genome_sizes = DataFrame(Init_active = Int[], Max_size = Int[], Replicate = Int[], Final_size = Int[], Pos_effects = Int[])\n",
    "runtime = Dates.format(now(), \"yyyymmdd_HHMM\")\n",
    "for i in 100:133\n",
    "    print(\"\\r$i\")\n",
    "    for init_active_loci in (1, 3, 5)\n",
    "        try\n",
    "            rng_default, rng_additive, rng_init_genotype, rng_init_genome, rng_mutation = initialize_prngs(additive_seed = i)\n",
    "            additive_effects = ones(128)#zeros(128) # we will always need to generate the full range of additive effects (128 bit)\n",
    "            df_genotypes = simulate(loci, init_active_loci, max_init_genotype_bits, total_population, σ_epi, μ, M, simulation_length, rng_init_genome, rng_init_genotype, rng_default, rng_mutation, additive_effects)\n",
    "            #generate_plots(df_genotypes)\n",
    "            sweeps = process_data(df_genotypes, μ, M, additive_effects, σ_epi)[7] # assigns only the data from the selective sweep dataframe\n",
    "            if nrow(sweeps) > 0\n",
    "                push!(final_genome_sizes, (init_active_loci, loci, i, sum(digits(sweeps[!,:Genome][end], base = 2, pad = loci)), Int(sum(heaviside.(additive_effects[1:loci]))))) # genome size of major genotype at end of simulation\n",
    "                CSV.write(\"output/additive_landscape_$(runtime).csv\", final_genome_sizes)\n",
    "            else \n",
    "                NaN\n",
    "            end\n",
    "        catch e\n",
    "            println(\"\\nError at replicate=$i, init_active_loci=$init_active_loci\")\n",
    "            println(e)\n",
    "            println(stacktrace(catch_backtrace()))\n",
    "        end\n",
    "    end\n",
    "end\n",
    "\n",
    "println(\"Finished at: \", Dates.format(now(), \"yyyymmdd_HHMM\"))"
   ]
  },
  {
   "cell_type": "markdown",
   "id": "b0f8d057-77f4-4362-9928-0e9c8251abaa",
   "metadata": {},
   "source": [
    "### Testing individual cases"
   ]
  },
  {
   "cell_type": "code",
   "execution_count": 60,
   "id": "4bd00ba7-75ae-4e14-bb5e-21c5b5c89c6f",
   "metadata": {},
   "outputs": [
    {
     "name": "stdout",
     "output_type": "stream",
     "text": [
      "Iteration: 200000"
     ]
    },
    {
     "data": {
      "text/plain": [
       "\"output/additive_replicate124_data_20250724.csv\""
      ]
     },
     "execution_count": 60,
     "metadata": {},
     "output_type": "execute_result"
    }
   ],
   "source": [
    "loci = 20\n",
    "#init_active_loci = 20\n",
    "max_init_genotype_bits = 1\n",
    "total_population = 1000\n",
    "σ_epi::Float64 = 0\n",
    "μ = (total_population^-1)/10\n",
    "M = μ\n",
    "simulation_length = 200000\n",
    "i = 124\n",
    "df = DataFrame()\n",
    "for init_active_loci in (1,10,20)\n",
    "    rng_default, rng_additive, rng_init_genotype, rng_init_genome, rng_mutation = initialize_prngs(additive_seed = i)\n",
    "    additive_effects = generate_additive_effects(rng_additive, 128)#ones(128)#zeros(128) # we will always need to generate the full range of additive effects (128 bit)\n",
    "    df_genotypes = simulate(loci, init_active_loci, max_init_genotype_bits, total_population, σ_epi, μ, M, simulation_length, rng_init_genome, rng_init_genotype, rng_default, rng_mutation, additive_effects)\n",
    "    #generate_plots(df_genotypes, μ, M, additive_effects, σ_epi, save = true)\n",
    "    output_data = process_data(df_genotypes, μ, M, additive_effects, σ_epi)[6]\n",
    "    insertcols!(df, string(init_active_loci) => output_data[!,:AverageGenomeSize])\n",
    "    #final_fitness = get_fitness(output_data[!,:Genotype][end], output_data[!,:Genome][end], additive_effects, σ_epi)\n",
    "    #max_fitness = exp(sum(heaviside.(additive_effects[1:loci]) .* additive_effects[1:loci]))\n",
    "end\n",
    "CSV.write(\"output/additive_replicate124_data_20250724.csv\", df)"
   ]
  }
 ],
 "metadata": {
  "kernelspec": {
   "display_name": "Julia 1.11.4",
   "language": "julia",
   "name": "julia-1.11"
  },
  "language_info": {
   "file_extension": ".jl",
   "mimetype": "application/julia",
   "name": "julia",
   "version": "1.11.4"
  }
 },
 "nbformat": 4,
 "nbformat_minor": 5
}
