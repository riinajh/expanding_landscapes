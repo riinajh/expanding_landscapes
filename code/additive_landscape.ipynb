{
 "cells": [
  {
   "cell_type": "code",
   "execution_count": 1,
   "id": "c9dec9ca-dbaa-4193-9283-4ed5567761d8",
   "metadata": {},
   "outputs": [
    {
     "data": {
      "text/plain": [
       "initialize_prngs"
      ]
     },
     "execution_count": 1,
     "metadata": {},
     "output_type": "execute_result"
    }
   ],
   "source": [
    "using Random\n",
    "using Random123\n",
    "using Distributions\n",
    "using Plots\n",
    "using StatsPlots\n",
    "using StatsBase\n",
    "using Statistics\n",
    "using DataFrames\n",
    "using Chain\n",
    "using Dates\n",
    "using CSV\n",
    "include(\"Utils.jl\")"
   ]
  },
  {
   "cell_type": "code",
   "execution_count": 2,
   "id": "40ef969f-3aa0-41d9-a726-ac3d48966503",
   "metadata": {},
   "outputs": [
    {
     "data": {
      "text/plain": [
       "200000"
      ]
     },
     "execution_count": 2,
     "metadata": {},
     "output_type": "execute_result"
    }
   ],
   "source": [
    "# Initializing our relevant arguments\n",
    "loci = 20 # since the bitwidth of the genome is 128, we can't actually model any arbitrary maximum genome bitsize. what we can do instead is enforce a maximum genome size (effectively, the bitwidth within a UInt128). \n",
    "#init_active_loci = 3 # how many loci, out of the total number of loci in the landscape defined above, are unlocked at the start?\n",
    "max_init_genotype_bits = 3 # makes the initial genotype reproducible between resticted and unlocked landscapes of the same size. max size is the number of init active loci\n",
    "# what the above lets us model is how the restrictedness of the landscape at initialization (init_active_loci) determines what peaks are reached. max_init_genotype_bits allows\n",
    "# us to control for the initial genotype when we change the number of unlocked loci at the start, otherwise we would just generate a different starting genotype (potentially one that wasn't available on the restricted landscape)\n",
    "total_population = 5000\n",
    "σ_epi::Float64 = 0 # standard deviation of the epistatic effects\n",
    "μ = (total_population^-1)/10 # Mutation rate of the genotypes with some genome. Claudia says than Nμ = 1 is a weird parameter regime, so we adjust it a bit lower\n",
    "M = μ#*10^-1 # rate of genome evolution. expansion/streamlining events happen an order of magnitude less, on average, than mutations\n",
    "simulation_length = 200000\n"
   ]
  },
  {
   "cell_type": "code",
   "execution_count": null,
   "id": "491e881a-6093-4521-86e9-6c0dc17360e9",
   "metadata": {},
   "outputs": [
    {
     "name": "stdout",
     "output_type": "stream",
     "text": [
      "Iteration: 153000\n",
      "Error at replicate=115, init_active_loci=3\n",
      "InterruptException()\n",
      "Base.StackTraces.StackFrame[findall(testf::var\"#1#3\", A::Vector{Int64}) at array.jl:2648, generate_mutants!(population::Tuple{UInt128, UInt128}, genotype_dictionary::Dict{Tuple, Genotype}, current_populations::Dict{Tuple, Genotype}, μ::Float64, M::Float64, loci::Int64, additive_effects::Vector{Float64}, rng_mutation::Xoshiro) at Utils.jl:74, simulate(loci::Int64, init_active_loci::Int64, max_init_genotype_bits::Int64, total_population::Int64, epistasis::Float64, μ::Float64, M::Float64, simulation_length::Int64, rng_init_genome::Xoshiro, rng_init_genotype::Xoshiro, rng_default::Xoshiro, rng_mutation::Xoshiro, additive_effects::Vector{Float64}; model::String) at Utils.jl:250, simulate(loci::Int64, init_active_loci::Int64, max_init_genotype_bits::Int64, total_population::Int64, epistasis::Float64, μ::Float64, M::Float64, simulation_length::Int64, rng_init_genome::Xoshiro, rng_init_genotype::Xoshiro, rng_default::Xoshiro, rng_mutation::Xoshiro, additive_effects::Vector{Float64}) at Utils.jl:199, top-level scope at In[3]:9, eval at boot.jl:430 [inlined], include_string(mapexpr::typeof(REPL.softscope), mod::Module, code::String, filename::String) at loading.jl:2734, softscope_include_string(m::Module, code::String, filename::String) at SoftGlobalScope.jl:65, execute_request(socket::ZMQ.Socket, msg::IJulia.Msg) at execute_request.jl:67, #invokelatest#2 at essentials.jl:1055 [inlined], invokelatest at essentials.jl:1052 [inlined], eventloop(socket::ZMQ.Socket) at eventloop.jl:8, (::IJulia.var\"#15#18\")() at eventloop.jl:38]\n",
      "Iteration: 7000\n",
      "Error at replicate=115, init_active_loci=10\n",
      "InterruptException()\n",
      "Base.StackTraces.StackFrame[Array at boot.jl:579 [inlined], Array at boot.jl:591 [inlined], zeros at array.jl:589 [inlined], zeros at array.jl:585 [inlined], digits(T::Type{Int64}, n::UInt128; base::Int64, pad::Int64) at intfuncs.jl:1016, digits at intfuncs.jl:1015 [inlined], #digits#529 at intfuncs.jl:1012 [inlined], digits at intfuncs.jl:1012 [inlined], generate_mutants!(population::Tuple{UInt128, UInt128}, genotype_dictionary::Dict{Tuple, Genotype}, current_populations::Dict{Tuple, Genotype}, μ::Float64, M::Float64, loci::Int64, additive_effects::Vector{Float64}, rng_mutation::Xoshiro) at Utils.jl:74, simulate(loci::Int64, init_active_loci::Int64, max_init_genotype_bits::Int64, total_population::Int64, epistasis::Float64, μ::Float64, M::Float64, simulation_length::Int64, rng_init_genome::Xoshiro, rng_init_genotype::Xoshiro, rng_default::Xoshiro, rng_mutation::Xoshiro, additive_effects::Vector{Float64}; model::String) at Utils.jl:250, simulate(loci::Int64, init_active_loci::Int64, max_init_genotype_bits::Int64, total_population::Int64, epistasis::Float64, μ::Float64, M::Float64, simulation_length::Int64, rng_init_genome::Xoshiro, rng_init_genotype::Xoshiro, rng_default::Xoshiro, rng_mutation::Xoshiro, additive_effects::Vector{Float64}) at Utils.jl:199, top-level scope at In[3]:9, eval at boot.jl:430 [inlined], include_string(mapexpr::typeof(REPL.softscope), mod::Module, code::String, filename::String) at loading.jl:2734, softscope_include_string(m::Module, code::String, filename::String) at SoftGlobalScope.jl:65, execute_request(socket::ZMQ.Socket, msg::IJulia.Msg) at execute_request.jl:67, #invokelatest#2 at essentials.jl:1055 [inlined], invokelatest at essentials.jl:1052 [inlined], eventloop(socket::ZMQ.Socket) at eventloop.jl:8, (::IJulia.var\"#15#18\")() at eventloop.jl:38]\n",
      "Iteration: 1000"
     ]
    }
   ],
   "source": [
    "final_genome_sizes = DataFrame(Init_active = Int[], Replicate = Int[], Final_size = Int[])\n",
    "runtime = Dates.format(now(), \"yyyymmdd_HH:MM\")\n",
    "for i in 100:133\n",
    "    print(\"\\r$i\")\n",
    "    for init_active_loci in (3, 10, 19)\n",
    "        try\n",
    "            rng_default, rng_additive, rng_init_genotype, rng_init_genome, rng_mutation = initialize_prngs(additive_seed = i)\n",
    "            additive_effects = generate_additive_effects(rng_additive, 128)#zeros(128) # we will always need to generate the full range of additive effects (128 bit)\n",
    "            df_genotypes = simulate(loci, init_active_loci, max_init_genotype_bits, total_population, σ_epi, μ, M, simulation_length, rng_init_genome, rng_init_genotype, rng_default, rng_mutation, additive_effects)\n",
    "            #generate_plots(df_genotypes)\n",
    "            sweeps = process_data(df_genotypes, μ, M, additive_effects, σ_epi)[7] # assigns only the data from the selective sweep dataframe\n",
    "            if nrow(sweeps) > 0\n",
    "                push!(final_genome_sizes, (init_active_loci, i, sum(digits(sweeps[!,:Genome][end], base = 2)))) # genome size of major genotype at end of simulation\n",
    "                CSV.write(\"output/additive_landscape_$(runtime).csv\", final_genome_sizes)\n",
    "            else \n",
    "                NaN\n",
    "            end\n",
    "        catch e\n",
    "            println(\"\\nError at replicate=$i, init_active_loci=$init_active_loci\")\n",
    "            println(e)\n",
    "            println(stacktrace(catch_backtrace()))\n",
    "        end\n",
    "    end\n",
    "end\n"
   ]
  }
 ],
 "metadata": {
  "kernelspec": {
   "display_name": "Julia 1.11.4",
   "language": "julia",
   "name": "julia-1.11"
  },
  "language_info": {
   "file_extension": ".jl",
   "mimetype": "application/julia",
   "name": "julia",
   "version": "1.11.4"
  }
 },
 "nbformat": 4,
 "nbformat_minor": 5
}
