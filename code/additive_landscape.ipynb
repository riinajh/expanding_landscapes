{
 "cells": [
  {
   "cell_type": "code",
   "execution_count": 13,
   "id": "c9dec9ca-dbaa-4193-9283-4ed5567761d8",
   "metadata": {},
   "outputs": [
    {
     "data": {
      "text/plain": [
       "initialize_prngs"
      ]
     },
     "execution_count": 13,
     "metadata": {},
     "output_type": "execute_result"
    }
   ],
   "source": [
    "using Random\n",
    "using Random123\n",
    "using Distributions\n",
    "using Plots\n",
    "using StatsPlots\n",
    "using StatsBase\n",
    "using Statistics\n",
    "using DataFrames\n",
    "using Chain\n",
    "using Dates\n",
    "using CSV\n",
    "include(\"Utils.jl\")"
   ]
  },
  {
   "cell_type": "code",
   "execution_count": 27,
   "id": "40ef969f-3aa0-41d9-a726-ac3d48966503",
   "metadata": {},
   "outputs": [
    {
     "data": {
      "text/plain": [
       "5000000"
      ]
     },
     "execution_count": 27,
     "metadata": {},
     "output_type": "execute_result"
    }
   ],
   "source": [
    "# Initializing our relevant arguments\n",
    "loci = 20 # since the bitwidth of the genome is 128, we can't actually model any arbitrary maximum genome bitsize. what we can do instead is enforce a maximum genome size (effectively, the bitwidth within a UInt128). \n",
    "#init_active_loci = 3 # how many loci, out of the total number of loci in the landscape defined above, are unlocked at the start?\n",
    "max_init_genotype_bits = 3 # makes the initial genotype reproducible between resticted and unlocked landscapes of the same size. max size is the number of init active loci\n",
    "# what the above lets us model is how the restrictedness of the landscape at initialization (init_active_loci) determines what peaks are reached. max_init_genotype_bits allows\n",
    "# us to control for the initial genotype when we change the number of unlocked loci at the start, otherwise we would just generate a different starting genotype (potentially one that wasn't available on the restricted landscape)\n",
    "total_population = 1000\n",
    "σ_epi::Float64 = 0 # standard deviation of the epistatic effects\n",
    "μ = (total_population^-1)/10 # Mutation rate of the genotypes with some genome. Claudia says than Nμ = 1 is a weird parameter regime, so we adjust it a bit lower\n",
    "M = μ#*10^-1 # rate of genome evolution. expansion/streamlining events happen an order of magnitude less, on average, than mutations\n",
    "simulation_length = 5000000\n"
   ]
  },
  {
   "cell_type": "code",
   "execution_count": 3,
   "id": "491e881a-6093-4521-86e9-6c0dc17360e9",
   "metadata": {},
   "outputs": [
    {
     "name": "stdout",
     "output_type": "stream",
     "text": [
      "Iteration: 200000"
     ]
    }
   ],
   "source": [
    "final_genome_sizes = DataFrame(Init_active = Int[], Replicate = Int[], Final_size = Int[], Pos_effects = Int[])\n",
    "runtime = Dates.format(now(), \"yyyymmdd_HH:MM\")\n",
    "for i in 100:133\n",
    "    print(\"\\r$i\")\n",
    "    for init_active_loci in (3, 10, 19)\n",
    "        try\n",
    "            rng_default, rng_additive, rng_init_genotype, rng_init_genome, rng_mutation = initialize_prngs(additive_seed = i)\n",
    "            additive_effects = generate_additive_effects(rng_additive, 128)#zeros(128) # we will always need to generate the full range of additive effects (128 bit)\n",
    "            df_genotypes = simulate(loci, init_active_loci, max_init_genotype_bits, total_population, σ_epi, μ, M, simulation_length, rng_init_genome, rng_init_genotype, rng_default, rng_mutation, additive_effects)\n",
    "            #generate_plots(df_genotypes)\n",
    "            sweeps = process_data(df_genotypes, μ, M, additive_effects, σ_epi)[7] # assigns only the data from the selective sweep dataframe\n",
    "            if nrow(sweeps) > 0\n",
    "                push!(final_genome_sizes, (init_active_loci, i, sum(digits(sweeps[!,:Genome][end], base = 2)), Int(sum(heaviside.(additive_effects[128-loci:end]))))) # genome size of major genotype at end of simulation\n",
    "                CSV.write(\"output/additive_landscape_$(runtime).csv\", final_genome_sizes)\n",
    "            else \n",
    "                NaN\n",
    "            end\n",
    "        catch e\n",
    "            println(\"\\nError at replicate=$i, init_active_loci=$init_active_loci\")\n",
    "            println(e)\n",
    "            println(stacktrace(catch_backtrace()))\n",
    "        end\n",
    "    end\n",
    "end\n",
    "\n",
    "println(\"Finished at: \", Dates.format(now(), \"yyyymmdd_HH:MM\"))"
   ]
  },
  {
   "cell_type": "code",
   "execution_count": null,
   "id": "4bd00ba7-75ae-4e14-bb5e-21c5b5c89c6f",
   "metadata": {},
   "outputs": [
    {
     "name": "stdout",
     "output_type": "stream",
     "text": [
      "Iteration: 5000000"
     ]
    }
   ],
   "source": [
    "i = 113\n",
    "init_active_loci = 3\n",
    "rng_default, rng_additive, rng_init_genotype, rng_init_genome, rng_mutation = initialize_prngs(additive_seed = i)\n",
    "additive_effects = generate_additive_effects(rng_additive, 128)#zeros(128) # we will always need to generate the full range of additive effects (128 bit)\n",
    "df_genotypes = simulate(loci, init_active_loci, max_init_genotype_bits, total_population, σ_epi, μ, M, simulation_length, rng_init_genome, rng_init_genotype, rng_default, rng_mutation, additive_effects)\n",
    "generate_plots(df_genotypes, μ, M, additive_effects, σ_epi)\n"
   ]
  }
 ],
 "metadata": {
  "kernelspec": {
   "display_name": "Julia 1.11.4",
   "language": "julia",
   "name": "julia-1.11"
  },
  "language_info": {
   "file_extension": ".jl",
   "mimetype": "application/julia",
   "name": "julia",
   "version": "1.11.4"
  }
 },
 "nbformat": 4,
 "nbformat_minor": 5
}
