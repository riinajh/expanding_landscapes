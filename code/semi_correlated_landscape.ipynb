{
 "cells": [
  {
   "cell_type": "code",
   "execution_count": 1,
   "id": "55c866b1-b049-49ad-9cb1-9e7e27467797",
   "metadata": {},
   "outputs": [
    {
     "data": {
      "text/plain": [
       "initialize_prngs"
      ]
     },
     "execution_count": 1,
     "metadata": {},
     "output_type": "execute_result"
    }
   ],
   "source": [
    "using Random\n",
    "using Random123\n",
    "using Distributions\n",
    "using Plots\n",
    "using StatsPlots\n",
    "using StatsBase\n",
    "using Statistics\n",
    "using DataFrames\n",
    "using Chain\n",
    "using Dates\n",
    "using CSV\n",
    "include(\"Utils.jl\")"
   ]
  },
  {
   "cell_type": "markdown",
   "id": "f5c41d2b-64ea-4dc9-b946-bd86f42cd316",
   "metadata": {},
   "source": [
    "## 08 Intermediate Epistasis Static Landscapes\n",
    "We now move to the final case, where landscapes are semi-correlated."
   ]
  },
  {
   "cell_type": "code",
   "execution_count": 3,
   "id": "5b642931-6055-4290-a96b-7aaba9993390",
   "metadata": {},
   "outputs": [
    {
     "name": "stdout",
     "output_type": "stream",
     "text": [
      "Iteration: 46000"
     ]
    },
    {
     "name": "stderr",
     "output_type": "stream",
     "text": [
      "Excessive output truncated after 524301 bytes."
     ]
    }
   ],
   "source": [
    "total_population = 1000\n",
    "σ_epi::Float64 = 0.1 # We've reduced this to lessen the selection coefficient\n",
    "μ = (total_population^-1)/10 # Mutation rate of the genotypes with some genome. Claudia says than Nμ = 1 is a weird parameter regime, so we adjust it a bit lower\n",
    "M = 0.0 # For the static versions\n",
    "simulation_length = 50000\n",
    "final_genome = DataFrame(Loci = Int[], Replicate = Int[], Final_fitness = Float64[], Final_genome_size = Float64[]) # unlike with the additive landscape, there is no trivial way of determining max fitness.\n",
    "runtime = Dates.format(now(), \"yyyymmdd_HHMM\")\n",
    "for i in 1:200\n",
    "    print(\"\\r$i\")\n",
    "    for test in (1,25,50,75,100)\n",
    "        try\n",
    "            loci = 100\n",
    "            init_active_loci = test\n",
    "            max_init_genotype_bits = 1\n",
    "            rng_default, rng_additive, rng_init_genotype, rng_init_genome, rng_mutation = initialize_prngs(genome_seed = i, mutation_seed = i) # changing the genome seed changes the landscape, since the cbrng is dependent on the genome \n",
    "            additive_effects = generate_additive_effects(rng_additive, 0.1, 128) # we are also reducing the additive stdev to lower selection coeff\n",
    "            df_genotypes = simulate(loci, init_active_loci, max_init_genotype_bits, total_population, σ_epi, μ, M, simulation_length, rng_init_genome, rng_init_genotype, rng_default, rng_mutation, additive_effects)\n",
    "            #generate_plots(df_genotypes)\n",
    "            sizes, sweeps = process_data(df_genotypes, μ, M, additive_effects, σ_epi)[6:7]\n",
    "            if nrow(sweeps) > 0\n",
    "                final_fitness = get_fitness(sweeps[!,:Genotype][end], sweeps[!,:Genome][end], additive_effects, σ_epi)\n",
    "                final_genome_size = sizes[end, :AverageGenomeSize]\n",
    "                push!(final_genome, (test, i, final_fitness, final_genome_size)) # genome size of major genotype at end of simulation\n",
    "                CSV.write(\"outputs/data/08_intermediate_static_landscape_$(runtime).csv\", final_genome)\n",
    "            else \n",
    "                NaN\n",
    "            end\n",
    "            \n",
    "        catch e\n",
    "            println(\"\\nError at replicate=$i, init_active_loci=$test\")\n",
    "            println(e)\n",
    "            println(stacktrace(catch_backtrace()))\n",
    "        end\n",
    "    end\n",
    "end\n",
    "\n",
    "println(\"\\nFinished at: \", Dates.format(now(), \"yyyymmdd_HHMM\"))"
   ]
  },
  {
   "cell_type": "markdown",
   "id": "d20da7a2-bcf6-4e81-94cc-059c5d948f08",
   "metadata": {},
   "source": [
    "## 09 Intermediate Epistasis Expanding Landscapes"
   ]
  },
  {
   "cell_type": "code",
   "execution_count": null,
   "id": "9761a5fa-0b07-4a50-a9d5-0aae0c55a028",
   "metadata": {},
   "outputs": [
    {
     "name": "stdout",
     "output_type": "stream",
     "text": [
      "Iteration: 20000"
     ]
    },
    {
     "name": "stderr",
     "output_type": "stream",
     "text": [
      "Excessive output truncated after 524315 bytes."
     ]
    }
   ],
   "source": [
    "total_population = 1000\n",
    "σ_epi::Float64 = 0.1 # We've reduced this to lessen the selection coefficient\n",
    "μ = (total_population^-1)/10 # Mutation rate of the genotypes with some genome. Claudia says than Nμ = 1 is a weird parameter regime, so we adjust it a bit lower\n",
    "M = μ * 10^-1\n",
    "simulation_length = 50000\n",
    "final_genome = DataFrame(Loci = Int[], Replicate = Int[], Final_fitness = Float64[], Final_genome_size = Float64[]) # unlike with the additive landscape, there is no trivial way of determining max fitness.\n",
    "runtime = Dates.format(now(), \"yyyymmdd_HHMM\")\n",
    "for i in 1001:2000\n",
    "    print(\"\\r$i\")\n",
    "    for test in (5,6,7,8,9,10)\n",
    "        try\n",
    "            loci = 20\n",
    "            init_active_loci = test\n",
    "            max_init_genotype_bits = 1\n",
    "            rng_default, rng_additive, rng_init_genotype, rng_init_genome, rng_mutation = initialize_prngs(genome_seed = i, mutation_seed = i) # changing the genome seed changes the landscape, since the cbrng is dependent on the genome \n",
    "            additive_effects = generate_additive_effects(rng_additive, 0.1, 128) # we are also reducing the additive stdev to lower selection coeff\n",
    "            df_genotypes = simulate(loci, init_active_loci, max_init_genotype_bits, total_population, σ_epi, μ, M, simulation_length, rng_init_genome, rng_init_genotype, rng_default, rng_mutation, additive_effects)\n",
    "            #generate_plots(df_genotypes)\n",
    "            sizes, sweeps = process_data(df_genotypes, μ, M, additive_effects, σ_epi)[6:7]\n",
    "            if nrow(sweeps) > 0\n",
    "                final_fitness = get_fitness(sweeps[!,:Genotype][end], sweeps[!,:Genome][end], additive_effects, σ_epi)\n",
    "                final_genome_size = sizes[end, :AverageGenomeSize]\n",
    "                push!(final_genome, (test, i, final_fitness, final_genome_size)) # genome size of major genotype at end of simulation\n",
    "                CSV.write(\"outputs/data/09_intermediate_expanding_landscape_$(runtime).csv\", final_genome)\n",
    "            else \n",
    "                NaN\n",
    "            end\n",
    "            \n",
    "        catch e\n",
    "            println(\"\\nError at replicate=$i, init_active_loci=$test\")\n",
    "            println(e)\n",
    "            println(stacktrace(catch_backtrace()))\n",
    "        end\n",
    "    end\n",
    "end\n",
    "\n",
    "println(\"\\nFinished at: \", Dates.format(now(), \"yyyymmdd_HHMM\"))"
   ]
  },
  {
   "cell_type": "markdown",
   "id": "8a4c2399-bb4c-429d-9d1a-220000f7f20b",
   "metadata": {},
   "source": [
    "## 10 Testing Dynamics on Expanding Landscapes"
   ]
  },
  {
   "cell_type": "code",
   "execution_count": 2,
   "id": "6c574fde-087d-4e1c-bd49-64d68d94c64f",
   "metadata": {},
   "outputs": [
    {
     "name": "stdout",
     "output_type": "stream",
     "text": [
      "Iteration: 29000"
     ]
    },
    {
     "name": "stderr",
     "output_type": "stream",
     "text": [
      "Excessive output truncated after 524314 bytes."
     ]
    }
   ],
   "source": [
    "total_population = 1000\n",
    "σ_epi::Float64 = 0.1 # We've reduced this to lessen the selection coefficient\n",
    "μ = (total_population^-1)/10 # Mutation rate of the genotypes with some genome. Claudia says than Nμ = 1 is a weird parameter regime, so we adjust it a bit lower\n",
    "M = μ * 10^-1\n",
    "simulation_length = 50000\n",
    "final_genome = DataFrame(Loci = Int[], Replicate = Int[], Final_fitness = Float64[], Final_genome_size = Float64[]) # unlike with the additive landscape, there is no trivial way of determining max fitness.\n",
    "output_dataframe = DataFrame(Step = Int[], Fitness = Float64[], CurrentGenomeSize = Float64[], FinalGenomeSize = Float64[], StartingLoci = Int[], Replicate = Int[])\n",
    "runtime = Dates.format(now(), \"yyyymmdd_HHMM\")\n",
    "for i in 1:5000\n",
    "    print(\"\\r$i\")\n",
    "    for test in (5)\n",
    "        try\n",
    "            loci = 20\n",
    "            init_active_loci = test\n",
    "            max_init_genotype_bits = 1\n",
    "            rng_default, rng_additive, rng_init_genotype, rng_init_genome, rng_mutation = initialize_prngs(genome_seed = i, mutation_seed = i) # changing the genome seed changes the landscape, since the cbrng is dependent on the genome \n",
    "            additive_effects = zeros(128)#generate_additive_effects(rng_additive, 0.1, 128) # we are also reducing the additive stdev to lower selection coeff\n",
    "            df_genotypes = simulate(loci, init_active_loci, max_init_genotype_bits, total_population, σ_epi, μ, M, simulation_length, rng_init_genome, rng_init_genotype, rng_default, rng_mutation, additive_effects)\n",
    "            #generate_plots(df_genotypes)\n",
    "            sizes, sweeps = process_data(df_genotypes, μ, M, additive_effects, σ_epi)[6:7]\n",
    "            if nrow(sweeps) > 0\n",
    "                #final_fitness = get_fitness(sweeps[!,:Genotype][end], sweeps[!,:Genome][end], additive_effects, σ_epi)\n",
    "                sweeps = sweeps[:, [:Step, :Fitness, :CurrentGenomeSize]]\n",
    "                sweeps[!, :FinalGenomeSize] .= sizes[end, :AverageGenomeSize]\n",
    "                sweeps[!, :StartingLoci] .= test\n",
    "                sweeps[!, :Replicate] .= i\n",
    "                #final_genome_size = sizes[end, :AverageGenomeSize]\n",
    "                output_dataframe = vcat(output_dataframe, sweeps) # genome size of major genotype at end of simulation\n",
    "                CSV.write(\"outputs/data/10-1_dynamics_hoc_expanding_landscape_$(runtime).csv\", output_dataframe)\n",
    "            else \n",
    "                NaN\n",
    "            end\n",
    "            \n",
    "        catch e\n",
    "            println(\"\\nError at replicate=$i, init_active_loci=$test\")\n",
    "            println(e)\n",
    "            println(stacktrace(catch_backtrace()))\n",
    "        end\n",
    "    end\n",
    "end\n",
    "\n",
    "println(\"\\nFinished at: \", Dates.format(now(), \"yyyymmdd_HHMM\"))"
   ]
  },
  {
   "cell_type": "markdown",
   "id": "abb09712-f484-46bc-82b1-56200dd5b0d0",
   "metadata": {},
   "source": [
    "## 11 Testing Individual Cases"
   ]
  },
  {
   "cell_type": "code",
   "execution_count": 16,
   "id": "ab437c06-8901-4c2f-a4fe-1567148287ff",
   "metadata": {},
   "outputs": [
    {
     "name": "stdout",
     "output_type": "stream",
     "text": [
      "Iteration: 10000"
     ]
    },
    {
     "data": {
      "text/html": [
       "<div><div style = \"float: left;\"><span>4×8 DataFrame</span></div><div style = \"clear: both;\"></div></div><div class = \"data-frame\" style = \"overflow-x: scroll;\"><table class = \"data-frame\" style = \"margin-bottom: 6px;\"><thead><tr class = \"header\"><th class = \"rowNumber\" style = \"font-weight: bold; text-align: right;\">Row</th><th style = \"text-align: left;\">Step</th><th style = \"text-align: left;\">Genotype</th><th style = \"text-align: left;\">Genome</th><th style = \"text-align: left;\">Pop</th><th style = \"text-align: left;\">GenotypeChange</th><th style = \"text-align: left;\">GenomeChange</th><th style = \"text-align: left;\">Fitness</th><th style = \"text-align: left;\">GenomeSize</th></tr><tr class = \"subheader headerLastRow\"><th class = \"rowNumber\" style = \"font-weight: bold; text-align: right;\"></th><th title = \"Int64\" style = \"text-align: left;\">Int64</th><th title = \"UInt128\" style = \"text-align: left;\">UInt128</th><th title = \"UInt128\" style = \"text-align: left;\">UInt128</th><th title = \"Float64\" style = \"text-align: left;\">Float64</th><th title = \"Float64\" style = \"text-align: left;\">Float64</th><th title = \"Float64\" style = \"text-align: left;\">Float64</th><th title = \"Float64\" style = \"text-align: left;\">Float64</th><th title = \"Int64\" style = \"text-align: left;\">Int64</th></tr></thead><tbody><tr><td class = \"rowNumber\" style = \"font-weight: bold; text-align: right;\">1</td><td style = \"text-align: right;\">0</td><td style = \"text-align: right;\">0</td><td style = \"text-align: right;\">524288</td><td style = \"text-align: right;\">1000.0</td><td style = \"text-align: right;\">0.0</td><td style = \"text-align: right;\">0.0</td><td style = \"text-align: right;\">1.02354</td><td style = \"text-align: right;\">1</td></tr><tr><td class = \"rowNumber\" style = \"font-weight: bold; text-align: right;\">2</td><td style = \"text-align: right;\">110</td><td style = \"text-align: right;\">0</td><td style = \"text-align: right;\">786432</td><td style = \"text-align: right;\">515.0</td><td style = \"text-align: right;\">0.0</td><td style = \"text-align: right;\">1.0</td><td style = \"text-align: right;\">1.18577</td><td style = \"text-align: right;\">2</td></tr><tr><td class = \"rowNumber\" style = \"font-weight: bold; text-align: right;\">3</td><td style = \"text-align: right;\">1112</td><td style = \"text-align: right;\">0</td><td style = \"text-align: right;\">802816</td><td style = \"text-align: right;\">502.0</td><td style = \"text-align: right;\">0.0</td><td style = \"text-align: right;\">1.0</td><td style = \"text-align: right;\">1.22188</td><td style = \"text-align: right;\">3</td></tr><tr><td class = \"rowNumber\" style = \"font-weight: bold; text-align: right;\">4</td><td style = \"text-align: right;\">3828</td><td style = \"text-align: right;\">0</td><td style = \"text-align: right;\">802820</td><td style = \"text-align: right;\">519.0</td><td style = \"text-align: right;\">0.0</td><td style = \"text-align: right;\">1.0</td><td style = \"text-align: right;\">1.25167</td><td style = \"text-align: right;\">4</td></tr></tbody></table></div>"
      ],
      "text/latex": [
       "\\begin{tabular}{r|cccccccc}\n",
       "\t& Step & Genotype & Genome & Pop & GenotypeChange & GenomeChange & Fitness & GenomeSize\\\\\n",
       "\t\\hline\n",
       "\t& Int64 & UInt128 & UInt128 & Float64 & Float64 & Float64 & Float64 & Int64\\\\\n",
       "\t\\hline\n",
       "\t1 & 0 & 0 & 524288 & 1000.0 & 0.0 & 0.0 & 1.02354 & 1 \\\\\n",
       "\t2 & 110 & 0 & 786432 & 515.0 & 0.0 & 1.0 & 1.18577 & 2 \\\\\n",
       "\t3 & 1112 & 0 & 802816 & 502.0 & 0.0 & 1.0 & 1.22188 & 3 \\\\\n",
       "\t4 & 3828 & 0 & 802820 & 519.0 & 0.0 & 1.0 & 1.25167 & 4 \\\\\n",
       "\\end{tabular}\n"
      ],
      "text/plain": [
       "\u001b[1m4×8 DataFrame\u001b[0m\n",
       "\u001b[1m Row \u001b[0m│\u001b[1m Step  \u001b[0m\u001b[1m Genotype \u001b[0m\u001b[1m Genome  \u001b[0m\u001b[1m Pop     \u001b[0m\u001b[1m GenotypeChange \u001b[0m\u001b[1m GenomeChange \u001b[0m\u001b[1m Fitnes\u001b[0m ⋯\n",
       "     │\u001b[90m Int64 \u001b[0m\u001b[90m UInt128  \u001b[0m\u001b[90m UInt128 \u001b[0m\u001b[90m Float64 \u001b[0m\u001b[90m Float64        \u001b[0m\u001b[90m Float64      \u001b[0m\u001b[90m Float6\u001b[0m ⋯\n",
       "─────┼──────────────────────────────────────────────────────────────────────────\n",
       "   1 │     0         0   524288   1000.0             0.0           0.0  1.0235 ⋯\n",
       "   2 │   110         0   786432    515.0             0.0           1.0  1.1857\n",
       "   3 │  1112         0   802816    502.0             0.0           1.0  1.2218\n",
       "   4 │  3828         0   802820    519.0             0.0           1.0  1.2516\n",
       "\u001b[36m                                                               2 columns omitted\u001b[0m"
      ]
     },
     "execution_count": 16,
     "metadata": {},
     "output_type": "execute_result"
    }
   ],
   "source": [
    "loci = 20\n",
    "init_active_loci = 1\n",
    "max_init_genotype_bits = 1\n",
    "total_population = 1000\n",
    "σ_epi::Float64 = 0.1\n",
    "μ = (total_population^-1)/10\n",
    "M = μ * 10^-1\n",
    "simulation_length = 10000\n",
    "i = 5\n",
    "#for init_active_loci in (1,10,20)\n",
    "rng_default, rng_additive, rng_init_genotype, rng_init_genome, rng_mutation = initialize_prngs(genome_seed = i, mutation_seed = i)\n",
    "additive_effects = generate_additive_effects(rng_additive, 0.1, 128)\n",
    "df_genotypes = simulate(loci, init_active_loci, max_init_genotype_bits, total_population, σ_epi, μ, M, simulation_length, rng_init_genome, rng_init_genotype, rng_default, rng_mutation, additive_effects)\n",
    "#generate_plots(df_genotypes, μ, M, additive_effects, σ_epi, save = false)\n",
    "output_data = process_data(df_genotypes, μ, M, additive_effects, σ_epi)[7]\n",
    "#insertcols!(df, string(init_active_loci) => output_data[!,:AverageGenomeSize])\n",
    "#final_fitness = get_fitness(output_data[!,:Genotype][end], output_data[!,:Genome][end], additive_effects, σ_epi)\n",
    "#max_fitness = exp(sum(heaviside.(additive_effects[1:loci]) .* additive_effects[1:loci]))\n",
    "#end\n",
    "#CSV.write(\"output/additive_replicate124_data_20250724.csv\", df)"
   ]
  }
 ],
 "metadata": {
  "kernelspec": {
   "display_name": "Julia 1.11.4",
   "language": "julia",
   "name": "julia-1.11"
  },
  "language_info": {
   "file_extension": ".jl",
   "mimetype": "application/julia",
   "name": "julia",
   "version": "1.11.4"
  }
 },
 "nbformat": 4,
 "nbformat_minor": 5
}
