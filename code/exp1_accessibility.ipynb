{
 "cells": [
  {
   "cell_type": "code",
   "execution_count": null,
   "id": "50209636-df89-48d4-aca2-f80c169cedbf",
   "metadata": {},
   "outputs": [],
   "source": [
    "include(landscape_utils.jl)"
   ]
  }
 ],
 "metadata": {
  "kernelspec": {
   "display_name": "Julia 1.11.4",
   "language": "julia",
   "name": "julia-1.11"
  },
  "language_info": {
   "file_extension": ".jl",
   "mimetype": "application/julia",
   "name": "julia",
   "version": "1.11.4"
  }
 },
 "nbformat": 4,
 "nbformat_minor": 5
}
